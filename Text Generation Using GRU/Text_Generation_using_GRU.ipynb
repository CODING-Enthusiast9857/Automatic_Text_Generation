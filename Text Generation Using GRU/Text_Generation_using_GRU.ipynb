{
  "metadata": {
    "accelerator": "GPU",
    "colab": {
      "provenance": [],
      "gpuType": "T4"
    },
    "kernelspec": {
      "name": "python3",
      "display_name": "Python 3",
      "language": "python"
    },
    "language_info": {
      "name": "python",
      "version": "3.10.12",
      "mimetype": "text/x-python",
      "codemirror_mode": {
        "name": "ipython",
        "version": 3
      },
      "pygments_lexer": "ipython3",
      "nbconvert_exporter": "python",
      "file_extension": ".py"
    },
    "kaggle": {
      "accelerator": "nvidiaTeslaT4",
      "dataSources": [
        {
          "sourceId": 7297075,
          "sourceType": "datasetVersion",
          "datasetId": 4232737
        },
        {
          "sourceId": 7302768,
          "sourceType": "datasetVersion",
          "datasetId": 4236811
        }
      ],
      "dockerImageVersionId": 30627,
      "isInternetEnabled": true,
      "language": "python",
      "sourceType": "notebook",
      "isGpuEnabled": true
    }
  },
  "nbformat_minor": 0,
  "nbformat": 4,
  "cells": [
    {
      "cell_type": "code",
      "source": [
        "from __future__ import absolute_import, division,print_function, unicode_literals\n",
        "\n",
        "import numpy as np\n",
        "import tensorflow as tf\n",
        "from tensorflow.keras.callbacks import ModelCheckpoint, EarlyStopping\n",
        "\n",
        "from keras.models import Sequential\n",
        "from keras.layers import Dense, Activation\n",
        "from keras.layers import GRU\n",
        "\n",
        "from keras.optimizers import RMSprop\n",
        "\n",
        "from keras.callbacks import LambdaCallback\n",
        "from keras.callbacks import ModelCheckpoint\n",
        "from keras.callbacks import ReduceLROnPlateau\n",
        "import random\n",
        "import sys\n"
      ],
      "metadata": {
        "id": "ue2ZjviZ2_wa",
        "execution": {
          "iopub.status.busy": "2024-01-01T09:40:15.155747Z",
          "iopub.execute_input": "2024-01-01T09:40:15.156104Z",
          "iopub.status.idle": "2024-01-01T09:40:27.935128Z",
          "shell.execute_reply.started": "2024-01-01T09:40:15.156073Z",
          "shell.execute_reply": "2024-01-01T09:40:27.934126Z"
        },
        "trusted": true
      },
      "execution_count": null,
      "outputs": []
    },
    {
      "cell_type": "code",
      "source": [
        "import urllib.request\n",
        "\n",
        "# URL of the Shakespeare dataset\n",
        "url = 'https://storage.googleapis.com/download.tensorflow.org/data/shakespeare.txt'\n",
        "\n",
        "# Download the file\n",
        "urllib.request.urlretrieve(url, 'shakespeare.txt')\n",
        "\n",
        "# Open and read the downloaded file\n",
        "with open('shakespeare.txt', 'r') as file:\n",
        "    text = file.read()\n",
        "\n",
        "# A preview of the text file\n",
        "print(text[:300])  # Displaying the first 300 characters as an example\n"
      ],
      "metadata": {
        "colab": {
          "base_uri": "https://localhost:8080/"
        },
        "id": "Fm2_eDGr3VJi",
        "outputId": "d2182373-c590-425c-d260-2dbf212eb027",
        "execution": {
          "iopub.status.busy": "2024-01-01T09:40:27.937258Z",
          "iopub.execute_input": "2024-01-01T09:40:27.938000Z",
          "iopub.status.idle": "2024-01-01T09:40:28.071221Z",
          "shell.execute_reply.started": "2024-01-01T09:40:27.937961Z",
          "shell.execute_reply": "2024-01-01T09:40:28.070191Z"
        },
        "trusted": true
      },
      "execution_count": null,
      "outputs": [
        {
          "output_type": "stream",
          "name": "stdout",
          "text": [
            "First Citizen:\n",
            "Before we proceed any further, hear me speak.\n",
            "\n",
            "All:\n",
            "Speak, speak.\n",
            "\n",
            "First Citizen:\n",
            "You are all resolved rather to die than to famish?\n",
            "\n",
            "All:\n",
            "Resolved. resolved.\n",
            "\n",
            "First Citizen:\n",
            "First, you know Caius Marcius is chief enemy to the people.\n",
            "\n",
            "All:\n",
            "We know't, we know't.\n",
            "\n",
            "First Citizen:\n",
            "Let us\n"
          ]
        }
      ]
    },
    {
      "cell_type": "markdown",
      "source": [
        " Creating a mapping from each unique character in the text to a unique number\n",
        "\n"
      ],
      "metadata": {
        "id": "OF8_NzIi3zGn"
      }
    },
    {
      "cell_type": "code",
      "source": [
        "# Storing all the unique characters present in the text\n",
        "vocabulary = sorted(list(set(text)))\n",
        "\n",
        "# Creating dictionaries to map each character to an index\n",
        "char_to_indices = dict((c, i) for i, c in enumerate(vocabulary))\n",
        "indices_to_char = dict((i, c) for i, c in enumerate(vocabulary))\n",
        "\n",
        "print(vocabulary)\n"
      ],
      "metadata": {
        "colab": {
          "base_uri": "https://localhost:8080/"
        },
        "id": "Ezb0LzUy3w0D",
        "outputId": "180c2479-4f6f-4cb0-d62d-26d15e708d59",
        "execution": {
          "iopub.status.busy": "2024-01-01T09:40:28.072494Z",
          "iopub.execute_input": "2024-01-01T09:40:28.072778Z",
          "iopub.status.idle": "2024-01-01T09:40:28.154253Z",
          "shell.execute_reply.started": "2024-01-01T09:40:28.072755Z",
          "shell.execute_reply": "2024-01-01T09:40:28.153279Z"
        },
        "trusted": true
      },
      "execution_count": null,
      "outputs": [
        {
          "output_type": "stream",
          "name": "stdout",
          "text": [
            "['\\n', ' ', '!', '$', '&', \"'\", ',', '-', '.', '3', ':', ';', '?', 'A', 'B', 'C', 'D', 'E', 'F', 'G', 'H', 'I', 'J', 'K', 'L', 'M', 'N', 'O', 'P', 'Q', 'R', 'S', 'T', 'U', 'V', 'W', 'X', 'Y', 'Z', 'a', 'b', 'c', 'd', 'e', 'f', 'g', 'h', 'i', 'j', 'k', 'l', 'm', 'n', 'o', 'p', 'q', 'r', 's', 't', 'u', 'v', 'w', 'x', 'y', 'z']\n"
          ]
        }
      ]
    },
    {
      "cell_type": "markdown",
      "source": [
        "Pre-processing the data"
      ],
      "metadata": {
        "id": "A6qN8fmW37qM"
      }
    },
    {
      "cell_type": "code",
      "source": [
        "# Dividing the text into subsequences of length max_length\n",
        "# So that at each time step the next max_length characters\n",
        "# are fed into the network\n",
        "max_length = 30\n",
        "steps = 5\n",
        "sentences = []\n",
        "next_chars = []\n",
        "for i in range(0, len(text) - max_length, steps):\n",
        "\tsentences.append(text[i: i + max_length])\n",
        "\tnext_chars.append(text[i + max_length])\n",
        "\n",
        "# Hot encoding each character into a boolean vector\n",
        "\n",
        "# Initializing a matrix of boolean vectors with each column representing\n",
        "# the hot encoded representation of the character\n",
        "X = np.zeros((len(sentences), max_length, len(vocabulary)), dtype = bool)\n",
        "y = np.zeros((len(sentences), len(vocabulary)), dtype = bool)\n",
        "\n",
        "# Placing the value 1 at the appropriate position for each vector\n",
        "# to complete the hot-encoding process\n",
        "for i, sentence in enumerate(sentences):\n",
        "\tfor t, char in enumerate(sentence):\n",
        "\t\tX[i, t, char_to_indices[char]] = 1\n",
        "\ty[i, char_to_indices[next_chars[i]]] = 1\n"
      ],
      "metadata": {
        "id": "wnEVKRc2350Z",
        "execution": {
          "iopub.status.busy": "2024-01-01T09:40:28.155302Z",
          "iopub.execute_input": "2024-01-01T09:40:28.155571Z",
          "iopub.status.idle": "2024-01-01T09:40:59.976426Z",
          "shell.execute_reply.started": "2024-01-01T09:40:28.155548Z",
          "shell.execute_reply": "2024-01-01T09:40:59.975571Z"
        },
        "trusted": true
      },
      "execution_count": null,
      "outputs": []
    },
    {
      "cell_type": "markdown",
      "source": [
        "Building the GRU network"
      ],
      "metadata": {
        "id": "tKwrn6aD4EcO"
      }
    },
    {
      "cell_type": "code",
      "source": [
        "# Initializing the GRU network\n",
        "model = Sequential()\n",
        "\n",
        "# Defining the cell type\n",
        "model.add(GRU(128, input_shape =(max_length, len(vocabulary))))\n",
        "\n",
        "# Defining the densely connected Neural Network layer\n",
        "model.add(Dense(len(vocabulary)))\n",
        "\n",
        "# Defining the activation function for the cell\n",
        "model.add(Activation('softmax'))\n",
        "\n",
        "# Defining the optimizing function\n",
        "optimizer = RMSprop(lr = 0.01)\n",
        "\n",
        "# Configuring the model for training\n",
        "model.compile(loss ='categorical_crossentropy', optimizer = optimizer)\n"
      ],
      "metadata": {
        "colab": {
          "base_uri": "https://localhost:8080/"
        },
        "id": "s1aU39AH4FC3",
        "outputId": "0bf872da-02f4-4fb0-d754-a2cc040c1a75",
        "execution": {
          "iopub.status.busy": "2024-01-01T09:40:59.979018Z",
          "iopub.execute_input": "2024-01-01T09:40:59.979329Z",
          "iopub.status.idle": "2024-01-01T09:41:04.413720Z",
          "shell.execute_reply.started": "2024-01-01T09:40:59.979303Z",
          "shell.execute_reply": "2024-01-01T09:41:04.412771Z"
        },
        "trusted": true
      },
      "execution_count": null,
      "outputs": [
        {
          "output_type": "stream",
          "name": "stderr",
          "text": [
            "WARNING:absl:`lr` is deprecated in Keras optimizer, please use `learning_rate` or use the legacy optimizer, e.g.,tf.keras.optimizers.legacy.RMSprop.\n"
          ]
        }
      ]
    },
    {
      "cell_type": "markdown",
      "source": [
        "a) Helper function to sample the next character:\n",
        "\n"
      ],
      "metadata": {
        "id": "VRzHgfsn4XY4"
      }
    },
    {
      "cell_type": "code",
      "source": [
        "# Helper function to sample an index from a probability array\n",
        "def sample_index(preds, temperature = 1.0):\n",
        "# temperature determines the freedom the function has when generating text\n",
        "\n",
        "\t# Converting the predictions vector into a numpy array\n",
        "\tpreds = np.asarray(preds).astype('float64')\n",
        "\n",
        "\t# Normalizing the predictions array\n",
        "\tpreds = np.log(preds) / temperature\n",
        "\texp_preds = np.exp(preds)\n",
        "\tpreds = exp_preds / np.sum(exp_preds)\n",
        "\n",
        "\t# The main sampling step. Creates an array of probabilities signifying\n",
        "\t# the probability of each character to be the next character in the\n",
        "\t# generated text\n",
        "\tprobas = np.random.multinomial(1, preds, 1)\n",
        "\n",
        "\t# Returning the character with maximum probability to be the next character\n",
        "\t# in the generated text\n",
        "\treturn np.argmax(probas)\n"
      ],
      "metadata": {
        "id": "GyPz7lFu4X78",
        "execution": {
          "iopub.status.busy": "2024-01-01T09:41:04.415072Z",
          "iopub.execute_input": "2024-01-01T09:41:04.415480Z",
          "iopub.status.idle": "2024-01-01T09:41:04.422529Z",
          "shell.execute_reply.started": "2024-01-01T09:41:04.415448Z",
          "shell.execute_reply": "2024-01-01T09:41:04.421481Z"
        },
        "trusted": true
      },
      "execution_count": null,
      "outputs": []
    },
    {
      "cell_type": "markdown",
      "source": [
        "b) Helper function to generate text after each epoch\n",
        "\n"
      ],
      "metadata": {
        "id": "ACSt0piO4b6p"
      }
    },
    {
      "cell_type": "code",
      "source": [
        "# Helper function to generate text after the end of each epoch\n",
        "def on_epoch_end(epoch, logs):\n",
        "\tprint()\n",
        "\tprint('----- Generating text after Epoch: % d' % epoch)\n",
        "\n",
        "\t# Choosing a random starting index for the text generation\n",
        "\tstart_index = random.randint(0, len(text) - max_length - 1)\n",
        "\n",
        "\t# Sampling for different values of diversity\n",
        "\tfor diversity in [0.2, 0.5, 1.0, 1.2]:\n",
        "\t\tprint('----- diversity:', diversity)\n",
        "\n",
        "\t\tgenerated = ''\n",
        "\n",
        "\t\t# Seed sentence\n",
        "\t\tsentence = text[start_index: start_index + max_length]\n",
        "\n",
        "\t\tgenerated += sentence\n",
        "\t\tprint('----- Generating with seed: \"' + sentence + '\"')\n",
        "\t\tsys.stdout.write(generated)\n",
        "\n",
        "\t\tfor i in range(400):\n",
        "\t\t\t# Initializing the predictions vector\n",
        "\t\t\tx_pred = np.zeros((1, max_length, len(vocabulary)))\n",
        "\n",
        "\t\t\tfor t, char in enumerate(sentence):\n",
        "\t\t\t\tx_pred[0, t, char_to_indices[char]] = 1.\n",
        "\n",
        "\t\t\t# Making the predictions for the next character\n",
        "\t\t\tpreds = model.predict(x_pred, verbose = 0)[0]\n",
        "\n",
        "\t\t\t# Getting the index of the most probable next character\n",
        "\t\t\tnext_index = sample_index(preds, diversity)\n",
        "\n",
        "\t\t\t# Getting the most probable next character using the mapping built\n",
        "\t\t\tnext_char = indices_to_char[next_index]\n",
        "\n",
        "\t\t\t# Building the generated text\n",
        "\t\t\tgenerated += next_char\n",
        "\t\t\tsentence = sentence[1:] + next_char\n",
        "\n",
        "\t\t\tsys.stdout.write(next_char)\n",
        "\t\t\tsys.stdout.flush()\n",
        "\t\tprint()\n",
        "\n",
        "# Defining a custom callback function to\n",
        "# describe the internal states of the network\n",
        "print_callback = LambdaCallback(on_epoch_end = on_epoch_end)\n"
      ],
      "metadata": {
        "id": "zMZ7MNHG4cYE",
        "execution": {
          "iopub.status.busy": "2024-01-01T09:41:04.423930Z",
          "iopub.execute_input": "2024-01-01T09:41:04.424212Z",
          "iopub.status.idle": "2024-01-01T09:41:04.448089Z",
          "shell.execute_reply.started": "2024-01-01T09:41:04.424188Z",
          "shell.execute_reply": "2024-01-01T09:41:04.447296Z"
        },
        "trusted": true
      },
      "execution_count": null,
      "outputs": []
    },
    {
      "cell_type": "markdown",
      "source": [
        "c) Helper function to save the model after each epoch in which loss decreases\n",
        "\n"
      ],
      "metadata": {
        "id": "X_M0SUNl4gRz"
      }
    },
    {
      "cell_type": "code",
      "source": [
        "# Defining a helper function to save the model after each epoch\n",
        "# in which the loss decreases\n",
        "filepath = \"weights.hdf5\"\n",
        "checkpoint = ModelCheckpoint(filepath, monitor ='loss',\n",
        "\t\t\t\t\t\t\tverbose = 1, save_best_only = True,\n",
        "\t\t\t\t\t\t\tmode ='min')\n"
      ],
      "metadata": {
        "id": "UAZxKXrD4gnv",
        "execution": {
          "iopub.status.busy": "2024-01-01T09:41:04.449219Z",
          "iopub.execute_input": "2024-01-01T09:41:04.449480Z",
          "iopub.status.idle": "2024-01-01T09:41:04.461936Z",
          "shell.execute_reply.started": "2024-01-01T09:41:04.449457Z",
          "shell.execute_reply": "2024-01-01T09:41:04.461185Z"
        },
        "trusted": true
      },
      "execution_count": null,
      "outputs": []
    },
    {
      "cell_type": "markdown",
      "source": [
        "d) Helper function to reduce the learning rate each time the learning plateaus\n",
        "\n"
      ],
      "metadata": {
        "id": "Uw_jKRjb4lle"
      }
    },
    {
      "cell_type": "code",
      "source": [
        "# Defining a helper function to reduce the learning rate each time\n",
        "# the learning plateaus\n",
        "reduce_alpha = ReduceLROnPlateau(monitor ='loss', factor = 0.2,\n",
        "\t\t\t\t\t\t\tpatience = 1, min_lr = 0.001)\n",
        "callbacks = [print_callback, checkpoint, reduce_alpha]\n"
      ],
      "metadata": {
        "id": "y1a0rS0X4l-X",
        "execution": {
          "iopub.status.busy": "2024-01-01T09:41:04.462960Z",
          "iopub.execute_input": "2024-01-01T09:41:04.463209Z",
          "iopub.status.idle": "2024-01-01T09:41:04.471292Z",
          "shell.execute_reply.started": "2024-01-01T09:41:04.463188Z",
          "shell.execute_reply": "2024-01-01T09:41:04.470434Z"
        },
        "trusted": true
      },
      "execution_count": null,
      "outputs": []
    },
    {
      "cell_type": "markdown",
      "source": [
        "Training the GRU model\n",
        "\n"
      ],
      "metadata": {
        "id": "Y04B5XEW4pk9"
      }
    },
    {
      "cell_type": "code",
      "source": [
        "# Training the GRU model\n",
        "# model.fit(X, y, batch_size = 256, epochs = 10, callbacks = callbacks)\n"
      ],
      "metadata": {
        "id": "xnbdYwmG4p_j",
        "_kg_hide-input": true,
        "_kg_hide-output": true,
        "execution": {
          "iopub.status.busy": "2024-01-01T09:41:04.472446Z",
          "iopub.execute_input": "2024-01-01T09:41:04.473117Z",
          "iopub.status.idle": "2024-01-01T09:41:04.480625Z",
          "shell.execute_reply.started": "2024-01-01T09:41:04.473085Z",
          "shell.execute_reply": "2024-01-01T09:41:04.479714Z"
        },
        "trusted": true
      },
      "execution_count": null,
      "outputs": []
    },
    {
      "cell_type": "markdown",
      "source": [
        "Generating new and random text"
      ],
      "metadata": {
        "id": "zVgf4yGt49nc"
      }
    },
    {
      "cell_type": "code",
      "source": [
        "# def generate_text(length, diversity):\n",
        "# \t# Get random starting text\n",
        "# \tstart_index = random.randint(0, len(text) - max_length - 1)\n",
        "\n",
        "# \t# Defining the generated text\n",
        "# \tgenerated = ''\n",
        "# \tsentence = text[start_index: start_index + max_length]\n",
        "# \tgenerated += sentence\n",
        "\n",
        "# \t# Generating new text of given length\n",
        "# \tfor i in range(length):\n",
        "\n",
        "# \t\t\t# Initializing the prediction vector\n",
        "# \t\t\tx_pred = np.zeros((1, max_length, len(vocabulary)))\n",
        "# \t\t\tfor t, char in enumerate(sentence):\n",
        "# \t\t\t\tx_pred[0, t, char_to_indices[char]] = 1.\n",
        "\n",
        "# \t\t\t# Making the predictions\n",
        "# \t\t\tpreds = model.predict(x_pred, verbose = 0)[0]\n",
        "\n",
        "# \t\t\t# Getting the index of the next most probable index\n",
        "# \t\t\tnext_index = sample_index(preds, diversity)\n",
        "\n",
        "# \t\t\t# Getting the most probable next character using the mapping built\n",
        "# \t\t\tnext_char = indices_to_char[next_index]\n",
        "\n",
        "# \t\t\t# Generating new text\n",
        "# \t\t\tgenerated += next_char\n",
        "# \t\t\tsentence = sentence[1:] + next_char\n",
        "# \treturn generated\n",
        "\n",
        "# print(generate_text(500, 1.0))\n"
      ],
      "metadata": {
        "id": "v7s7WAlHEODB",
        "execution": {
          "iopub.status.busy": "2024-01-01T09:41:04.481819Z",
          "iopub.execute_input": "2024-01-01T09:41:04.482143Z",
          "iopub.status.idle": "2024-01-01T09:41:04.493799Z",
          "shell.execute_reply.started": "2024-01-01T09:41:04.482119Z",
          "shell.execute_reply": "2024-01-01T09:41:04.493007Z"
        },
        "trusted": true
      },
      "execution_count": null,
      "outputs": []
    },
    {
      "cell_type": "code",
      "source": [
        "model.summary()"
      ],
      "metadata": {
        "colab": {
          "base_uri": "https://localhost:8080/"
        },
        "id": "OVFQ2X1cF08Q",
        "outputId": "3907f523-00b2-4254-ff70-e7266e33c537",
        "execution": {
          "iopub.status.busy": "2024-01-01T09:41:04.494853Z",
          "iopub.execute_input": "2024-01-01T09:41:04.495136Z",
          "iopub.status.idle": "2024-01-01T09:41:04.517369Z",
          "shell.execute_reply.started": "2024-01-01T09:41:04.495113Z",
          "shell.execute_reply": "2024-01-01T09:41:04.516564Z"
        },
        "trusted": true
      },
      "execution_count": null,
      "outputs": [
        {
          "output_type": "stream",
          "name": "stdout",
          "text": [
            "Model: \"sequential\"\n",
            "_________________________________________________________________\n",
            " Layer (type)                Output Shape              Param #   \n",
            "=================================================================\n",
            " gru (GRU)                   (None, 128)               74880     \n",
            "                                                                 \n",
            " dense (Dense)               (None, 65)                8385      \n",
            "                                                                 \n",
            " activation (Activation)     (None, 65)                0         \n",
            "                                                                 \n",
            "=================================================================\n",
            "Total params: 83265 (325.25 KB)\n",
            "Trainable params: 83265 (325.25 KB)\n",
            "Non-trainable params: 0 (0.00 Byte)\n",
            "_________________________________________________________________\n"
          ]
        }
      ]
    },
    {
      "cell_type": "code",
      "source": [
        "\n",
        "# # Compile the model\n",
        "# model.compile(loss='categorical_crossentropy', optimizer='adam', metrics=['accuracy'])\n",
        "\n",
        "# # Train the model and capture the training history\n",
        "# history = model.fit(X, y, batch_size=200, epochs=20)\n",
        "\n",
        "# # Print the final accuracy\n",
        "# final_accuracy = history.history['accuracy'][-1]\n",
        "# print(f\"Final Training Accuracy: {final_accuracy * 100:.2f}%\")\n"
      ],
      "metadata": {
        "colab": {
          "base_uri": "https://localhost:8080/"
        },
        "id": "4Pd3S8ENQ8ED",
        "outputId": "da5e57b1-c4b6-4451-efe4-d8e5e40aee9e",
        "execution": {
          "iopub.status.busy": "2024-01-01T09:41:14.530690Z",
          "iopub.execute_input": "2024-01-01T09:41:14.531428Z"
        },
        "trusted": true
      },
      "execution_count": null,
      "outputs": [
        {
          "output_type": "stream",
          "name": "stdout",
          "text": [
            "Epoch 1/20\n",
            "1116/1116 [==============================] - 8s 5ms/step - loss: 2.4778 - accuracy: 0.3141\n",
            "Epoch 2/20\n",
            "1116/1116 [==============================] - 6s 5ms/step - loss: 2.0609 - accuracy: 0.4031\n",
            "Epoch 3/20\n",
            "1116/1116 [==============================] - 8s 7ms/step - loss: 1.9059 - accuracy: 0.4407\n",
            "Epoch 4/20\n",
            "1116/1116 [==============================] - 7s 6ms/step - loss: 1.8038 - accuracy: 0.4678\n",
            "Epoch 5/20\n",
            "1116/1116 [==============================] - 5s 5ms/step - loss: 1.7322 - accuracy: 0.4881\n",
            "Epoch 6/20\n",
            "1116/1116 [==============================] - 6s 5ms/step - loss: 1.6794 - accuracy: 0.5006\n",
            "Epoch 7/20\n",
            "1116/1116 [==============================] - 5s 5ms/step - loss: 1.6373 - accuracy: 0.5122\n",
            "Epoch 8/20\n",
            "1116/1116 [==============================] - 6s 6ms/step - loss: 1.6031 - accuracy: 0.5213\n",
            "Epoch 9/20\n",
            "1116/1116 [==============================] - 5s 5ms/step - loss: 1.5741 - accuracy: 0.5289\n",
            "Epoch 10/20\n",
            "1116/1116 [==============================] - 5s 5ms/step - loss: 1.5484 - accuracy: 0.5362\n",
            "Epoch 11/20\n",
            "1116/1116 [==============================] - 5s 5ms/step - loss: 1.5266 - accuracy: 0.5419\n",
            "Epoch 12/20\n",
            "1116/1116 [==============================] - 5s 5ms/step - loss: 1.5060 - accuracy: 0.5467\n",
            "Epoch 13/20\n",
            "1116/1116 [==============================] - 6s 5ms/step - loss: 1.4883 - accuracy: 0.5520\n",
            "Epoch 14/20\n",
            "1116/1116 [==============================] - 5s 5ms/step - loss: 1.4723 - accuracy: 0.5554\n",
            "Epoch 15/20\n",
            "1116/1116 [==============================] - 6s 5ms/step - loss: 1.4574 - accuracy: 0.5596\n",
            "Epoch 16/20\n",
            "1116/1116 [==============================] - 5s 5ms/step - loss: 1.4438 - accuracy: 0.5628\n",
            "Epoch 17/20\n",
            "1116/1116 [==============================] - 5s 5ms/step - loss: 1.4317 - accuracy: 0.5667\n",
            "Epoch 18/20\n",
            "1116/1116 [==============================] - 6s 5ms/step - loss: 1.4195 - accuracy: 0.5695\n",
            "Epoch 19/20\n",
            "1116/1116 [==============================] - 5s 5ms/step - loss: 1.4085 - accuracy: 0.5731\n",
            "Epoch 20/20\n",
            "1116/1116 [==============================] - 6s 5ms/step - loss: 1.3984 - accuracy: 0.5752\n",
            "Final Training Accuracy: 57.52%\n"
          ]
        }
      ]
    },
    {
      "cell_type": "code",
      "source": [
        "# Compile the model\n",
        "model.compile(loss='categorical_crossentropy', optimizer='adam', metrics=['accuracy'])\n",
        "checkpoint = ModelCheckpoint('best_model.h5', monitor='val_loss', save_best_only=True, verbose=1)\n",
        "early_stopping = EarlyStopping(monitor='val_loss', patience=5, verbose=1)\n"
      ],
      "metadata": {
        "id": "uoKFnv8BxL-6"
      },
      "execution_count": null,
      "outputs": []
    },
    {
      "cell_type": "code",
      "source": [
        "# Train the model and capture the training history\n",
        "# history = model.fit(X, y, batch_size=256, epochs=20)"
      ],
      "metadata": {
        "colab": {
          "base_uri": "https://localhost:8080/"
        },
        "id": "pNbCyL--xPeV",
        "outputId": "d863e28c-ab62-4cdf-c80e-7ca7b0dd59a2"
      },
      "execution_count": null,
      "outputs": [
        {
          "output_type": "stream",
          "name": "stdout",
          "text": [
            "Epoch 1/20\n",
            "872/872 [==============================] - 7s 5ms/step - loss: 1.3827 - accuracy: 0.5799\n",
            "Epoch 2/20\n",
            "872/872 [==============================] - 5s 5ms/step - loss: 1.3734 - accuracy: 0.5820\n",
            "Epoch 3/20\n",
            "872/872 [==============================] - 4s 5ms/step - loss: 1.3651 - accuracy: 0.5841\n",
            "Epoch 4/20\n",
            "872/872 [==============================] - 4s 5ms/step - loss: 1.3580 - accuracy: 0.5862\n",
            "Epoch 5/20\n",
            "872/872 [==============================] - 5s 6ms/step - loss: 1.3502 - accuracy: 0.5885\n",
            "Epoch 6/20\n",
            "872/872 [==============================] - 4s 5ms/step - loss: 1.3430 - accuracy: 0.5902\n",
            "Epoch 7/20\n",
            "872/872 [==============================] - 4s 5ms/step - loss: 1.3360 - accuracy: 0.5920\n",
            "Epoch 8/20\n",
            "872/872 [==============================] - 5s 5ms/step - loss: 1.3283 - accuracy: 0.5938\n",
            "Epoch 9/20\n",
            "872/872 [==============================] - 4s 5ms/step - loss: 1.3228 - accuracy: 0.5958\n",
            "Epoch 10/20\n",
            "872/872 [==============================] - 4s 5ms/step - loss: 1.3160 - accuracy: 0.5973\n",
            "Epoch 11/20\n",
            "872/872 [==============================] - 5s 5ms/step - loss: 1.3101 - accuracy: 0.5992\n",
            "Epoch 12/20\n",
            "872/872 [==============================] - 4s 5ms/step - loss: 1.3044 - accuracy: 0.6005\n",
            "Epoch 13/20\n",
            "872/872 [==============================] - 4s 5ms/step - loss: 1.2986 - accuracy: 0.6023\n",
            "Epoch 14/20\n",
            "872/872 [==============================] - 5s 5ms/step - loss: 1.2935 - accuracy: 0.6043\n",
            "Epoch 15/20\n",
            "872/872 [==============================] - 4s 5ms/step - loss: 1.2898 - accuracy: 0.6038\n",
            "Epoch 16/20\n",
            "872/872 [==============================] - 4s 5ms/step - loss: 1.2831 - accuracy: 0.6063\n",
            "Epoch 17/20\n",
            "872/872 [==============================] - 5s 5ms/step - loss: 1.2788 - accuracy: 0.6075\n",
            "Epoch 18/20\n",
            "872/872 [==============================] - 4s 5ms/step - loss: 1.2728 - accuracy: 0.6090\n",
            "Epoch 19/20\n",
            "872/872 [==============================] - 4s 5ms/step - loss: 1.2702 - accuracy: 0.6093\n",
            "Epoch 20/20\n",
            "872/872 [==============================] - 5s 5ms/step - loss: 1.2634 - accuracy: 0.6113\n"
          ]
        }
      ]
    },
    {
      "cell_type": "code",
      "source": [
        "# Print the final accuracy\n",
        "# final_accuracy = history.history['accuracy'][-1]\n",
        "# print(f\"Final Training Accuracy: {final_accuracy * 100:.2f}%\")"
      ],
      "metadata": {
        "colab": {
          "base_uri": "https://localhost:8080/"
        },
        "id": "SZB9BzbGxPhl",
        "outputId": "83d92657-5890-4184-a1c0-7469bfb9e758"
      },
      "execution_count": null,
      "outputs": [
        {
          "output_type": "stream",
          "name": "stdout",
          "text": [
            "Final Training Accuracy: 61.13%\n"
          ]
        }
      ]
    },
    {
      "cell_type": "code",
      "source": [
        "# history = model.fit(X, y, batch_size=512, epochs=20)"
      ],
      "metadata": {
        "colab": {
          "base_uri": "https://localhost:8080/"
        },
        "id": "jlCxtRcXyEJo",
        "outputId": "0bad3617-c996-42ec-8d8e-0aa96a5a731e"
      },
      "execution_count": null,
      "outputs": [
        {
          "output_type": "stream",
          "name": "stdout",
          "text": [
            "Epoch 1/20\n",
            "436/436 [==============================] - 3s 8ms/step - loss: 1.2309 - accuracy: 0.6221\n",
            "Epoch 2/20\n",
            "436/436 [==============================] - 3s 6ms/step - loss: 1.2261 - accuracy: 0.6238\n",
            "Epoch 3/20\n",
            "436/436 [==============================] - 3s 6ms/step - loss: 1.2249 - accuracy: 0.6241\n",
            "Epoch 4/20\n",
            "436/436 [==============================] - 3s 6ms/step - loss: 1.2239 - accuracy: 0.6244\n",
            "Epoch 5/20\n",
            "436/436 [==============================] - 3s 7ms/step - loss: 1.2212 - accuracy: 0.6247\n",
            "Epoch 6/20\n",
            "436/436 [==============================] - 3s 7ms/step - loss: 1.2198 - accuracy: 0.6249\n",
            "Epoch 7/20\n",
            "436/436 [==============================] - 3s 6ms/step - loss: 1.2166 - accuracy: 0.6258\n",
            "Epoch 8/20\n",
            "436/436 [==============================] - 3s 6ms/step - loss: 1.2140 - accuracy: 0.6262\n",
            "Epoch 9/20\n",
            "436/436 [==============================] - 3s 7ms/step - loss: 1.2106 - accuracy: 0.6274\n",
            "Epoch 10/20\n",
            "436/436 [==============================] - 3s 7ms/step - loss: 1.2075 - accuracy: 0.6286\n",
            "Epoch 11/20\n",
            "436/436 [==============================] - 3s 6ms/step - loss: 1.2055 - accuracy: 0.6294\n",
            "Epoch 12/20\n",
            "436/436 [==============================] - 3s 7ms/step - loss: 1.2014 - accuracy: 0.6304\n",
            "Epoch 13/20\n",
            "436/436 [==============================] - 3s 7ms/step - loss: 1.1982 - accuracy: 0.6317\n",
            "Epoch 14/20\n",
            "436/436 [==============================] - 3s 8ms/step - loss: 1.1955 - accuracy: 0.6324\n",
            "Epoch 15/20\n",
            "436/436 [==============================] - 3s 7ms/step - loss: 1.1931 - accuracy: 0.6327\n",
            "Epoch 16/20\n",
            "436/436 [==============================] - 3s 7ms/step - loss: 1.1918 - accuracy: 0.6331\n",
            "Epoch 17/20\n",
            "436/436 [==============================] - 3s 7ms/step - loss: 1.1882 - accuracy: 0.6344\n",
            "Epoch 18/20\n",
            "436/436 [==============================] - 3s 7ms/step - loss: 1.1848 - accuracy: 0.6353\n",
            "Epoch 19/20\n",
            "436/436 [==============================] - 3s 7ms/step - loss: 1.1813 - accuracy: 0.6363\n",
            "Epoch 20/20\n",
            "436/436 [==============================] - 3s 7ms/step - loss: 1.1798 - accuracy: 0.6368\n"
          ]
        }
      ]
    },
    {
      "cell_type": "code",
      "source": [
        "# final_accuracy = history.history['accuracy'][-1]\n",
        "# print(f\"Final Training Accuracy: {final_accuracy * 100:.2f}%\")"
      ],
      "metadata": {
        "colab": {
          "base_uri": "https://localhost:8080/"
        },
        "id": "jWqJ_7LByEVs",
        "outputId": "0583c8a6-68ea-4dfa-f250-df0621514d80"
      },
      "execution_count": null,
      "outputs": [
        {
          "output_type": "stream",
          "name": "stdout",
          "text": [
            "Final Training Accuracy: 63.68%\n"
          ]
        }
      ]
    },
    {
      "cell_type": "code",
      "source": [
        "# history = model.fit(X, y, batch_size=512, epochs=20)"
      ],
      "metadata": {
        "colab": {
          "base_uri": "https://localhost:8080/"
        },
        "id": "JQEsCTpxyd41",
        "outputId": "9f8b2d85-6248-4c75-8482-f4f11eb7985a"
      },
      "execution_count": null,
      "outputs": [
        {
          "output_type": "stream",
          "name": "stdout",
          "text": [
            "Epoch 1/20\n",
            "436/436 [==============================] - 3s 7ms/step - loss: 1.1314 - accuracy: 0.6507\n",
            "Epoch 2/20\n",
            "436/436 [==============================] - 3s 7ms/step - loss: 1.1163 - accuracy: 0.6555\n",
            "Epoch 3/20\n",
            "436/436 [==============================] - 3s 6ms/step - loss: 1.1177 - accuracy: 0.6551\n",
            "Epoch 4/20\n",
            "436/436 [==============================] - 3s 7ms/step - loss: 1.1190 - accuracy: 0.6538\n",
            "Epoch 5/20\n",
            "436/436 [==============================] - 3s 7ms/step - loss: 1.1190 - accuracy: 0.6540\n",
            "Epoch 6/20\n",
            "436/436 [==============================] - 3s 6ms/step - loss: 1.1247 - accuracy: 0.6520\n",
            "Epoch 7/20\n",
            "436/436 [==============================] - 3s 6ms/step - loss: 1.1191 - accuracy: 0.6537\n",
            "Epoch 8/20\n",
            "436/436 [==============================] - 3s 7ms/step - loss: 1.1187 - accuracy: 0.6539\n",
            "Epoch 9/20\n",
            "436/436 [==============================] - 3s 8ms/step - loss: 1.1178 - accuracy: 0.6541\n",
            "Epoch 10/20\n",
            "436/436 [==============================] - 3s 7ms/step - loss: 1.1168 - accuracy: 0.6540\n",
            "Epoch 11/20\n",
            "436/436 [==============================] - 3s 6ms/step - loss: 1.1156 - accuracy: 0.6547\n",
            "Epoch 12/20\n",
            "436/436 [==============================] - 3s 6ms/step - loss: 1.1130 - accuracy: 0.6549\n",
            "Epoch 13/20\n",
            "436/436 [==============================] - 3s 7ms/step - loss: 1.1120 - accuracy: 0.6556\n",
            "Epoch 14/20\n",
            "436/436 [==============================] - 3s 7ms/step - loss: 1.1128 - accuracy: 0.6557\n",
            "Epoch 15/20\n",
            "436/436 [==============================] - 3s 6ms/step - loss: 1.1112 - accuracy: 0.6550\n",
            "Epoch 16/20\n",
            "436/436 [==============================] - 3s 6ms/step - loss: 1.1101 - accuracy: 0.6557\n",
            "Epoch 17/20\n",
            "436/436 [==============================] - 3s 7ms/step - loss: 1.1093 - accuracy: 0.6565\n",
            "Epoch 18/20\n",
            "436/436 [==============================] - 3s 7ms/step - loss: 1.1105 - accuracy: 0.6565\n",
            "Epoch 19/20\n",
            "436/436 [==============================] - 3s 7ms/step - loss: 1.1085 - accuracy: 0.6568\n",
            "Epoch 20/20\n",
            "436/436 [==============================] - 3s 6ms/step - loss: 1.1052 - accuracy: 0.6580\n"
          ]
        }
      ]
    },
    {
      "cell_type": "code",
      "source": [
        "# final_accuracy = history.history['accuracy'][-1]\n",
        "# print(f\"Final Training Accuracy: {final_accuracy * 100:.2f}%\")"
      ],
      "metadata": {
        "colab": {
          "base_uri": "https://localhost:8080/"
        },
        "id": "-ximeILxyd8D",
        "outputId": "eb6258a9-5e37-4985-ae17-616cc521c43c"
      },
      "execution_count": null,
      "outputs": [
        {
          "output_type": "stream",
          "name": "stdout",
          "text": [
            "Final Training Accuracy: 65.80%\n"
          ]
        }
      ]
    },
    {
      "cell_type": "code",
      "source": [
        "# history = model.fit(X, y, batch_size=512, epochs=40)"
      ],
      "metadata": {
        "colab": {
          "base_uri": "https://localhost:8080/"
        },
        "id": "cdShxHDDzKR6",
        "outputId": "9f033d7d-572e-4f00-fc8d-8f1164a01b3e"
      },
      "execution_count": null,
      "outputs": [
        {
          "output_type": "stream",
          "name": "stdout",
          "text": [
            "Epoch 1/40\n",
            "436/436 [==============================] - 3s 8ms/step - loss: 1.1040 - accuracy: 0.6582\n",
            "Epoch 2/40\n",
            "436/436 [==============================] - 3s 6ms/step - loss: 1.1038 - accuracy: 0.6590\n",
            "Epoch 3/40\n",
            "436/436 [==============================] - 3s 6ms/step - loss: 1.1020 - accuracy: 0.6584\n",
            "Epoch 4/40\n",
            "436/436 [==============================] - 3s 6ms/step - loss: 1.1029 - accuracy: 0.6574\n",
            "Epoch 5/40\n",
            "436/436 [==============================] - 3s 7ms/step - loss: 1.1012 - accuracy: 0.6579\n",
            "Epoch 6/40\n",
            "436/436 [==============================] - 3s 7ms/step - loss: 1.1016 - accuracy: 0.6578\n",
            "Epoch 7/40\n",
            "436/436 [==============================] - 3s 6ms/step - loss: 1.1000 - accuracy: 0.6585\n",
            "Epoch 8/40\n",
            "436/436 [==============================] - 3s 6ms/step - loss: 1.0998 - accuracy: 0.6593\n",
            "Epoch 9/40\n",
            "436/436 [==============================] - 3s 7ms/step - loss: 1.1001 - accuracy: 0.6589\n",
            "Epoch 10/40\n",
            "436/436 [==============================] - 3s 7ms/step - loss: 1.0980 - accuracy: 0.6597\n",
            "Epoch 11/40\n",
            "436/436 [==============================] - 3s 6ms/step - loss: 1.0987 - accuracy: 0.6593\n",
            "Epoch 12/40\n",
            "436/436 [==============================] - 3s 6ms/step - loss: 1.0943 - accuracy: 0.6596\n",
            "Epoch 13/40\n",
            "436/436 [==============================] - 3s 6ms/step - loss: 1.0955 - accuracy: 0.6597\n",
            "Epoch 14/40\n",
            "436/436 [==============================] - 3s 7ms/step - loss: 1.0945 - accuracy: 0.6597\n",
            "Epoch 15/40\n",
            "436/436 [==============================] - 3s 7ms/step - loss: 1.0936 - accuracy: 0.6605\n",
            "Epoch 16/40\n",
            "436/436 [==============================] - 3s 7ms/step - loss: 1.0951 - accuracy: 0.6605\n",
            "Epoch 17/40\n",
            "436/436 [==============================] - 3s 7ms/step - loss: 1.0908 - accuracy: 0.6607\n",
            "Epoch 18/40\n",
            "436/436 [==============================] - 3s 7ms/step - loss: 1.0935 - accuracy: 0.6604\n",
            "Epoch 19/40\n",
            "436/436 [==============================] - 3s 7ms/step - loss: 1.0923 - accuracy: 0.6614\n",
            "Epoch 20/40\n",
            "436/436 [==============================] - 3s 6ms/step - loss: 1.0933 - accuracy: 0.6604\n",
            "Epoch 21/40\n",
            "436/436 [==============================] - 3s 7ms/step - loss: 1.0885 - accuracy: 0.6620\n",
            "Epoch 22/40\n",
            "436/436 [==============================] - 3s 7ms/step - loss: 1.0903 - accuracy: 0.6607\n",
            "Epoch 23/40\n",
            "436/436 [==============================] - 3s 7ms/step - loss: 1.0873 - accuracy: 0.6623\n",
            "Epoch 24/40\n",
            "436/436 [==============================] - 3s 7ms/step - loss: 1.0892 - accuracy: 0.6616\n",
            "Epoch 25/40\n",
            "436/436 [==============================] - 3s 7ms/step - loss: 1.0964 - accuracy: 0.6590\n",
            "Epoch 26/40\n",
            "436/436 [==============================] - 3s 6ms/step - loss: 1.0915 - accuracy: 0.6609\n",
            "Epoch 27/40\n",
            "436/436 [==============================] - 3s 7ms/step - loss: 1.0861 - accuracy: 0.6625\n",
            "Epoch 28/40\n",
            "436/436 [==============================] - 3s 7ms/step - loss: 1.0877 - accuracy: 0.6621\n",
            "Epoch 29/40\n",
            "436/436 [==============================] - 3s 7ms/step - loss: 1.0884 - accuracy: 0.6618\n",
            "Epoch 30/40\n",
            "436/436 [==============================] - 3s 7ms/step - loss: 1.0825 - accuracy: 0.6626\n",
            "Epoch 31/40\n",
            "436/436 [==============================] - 3s 7ms/step - loss: 1.0855 - accuracy: 0.6628\n",
            "Epoch 32/40\n",
            "436/436 [==============================] - 3s 7ms/step - loss: 1.0858 - accuracy: 0.6622\n",
            "Epoch 33/40\n",
            "436/436 [==============================] - 3s 7ms/step - loss: 1.0818 - accuracy: 0.6638\n",
            "Epoch 34/40\n",
            "436/436 [==============================] - 3s 7ms/step - loss: 1.0845 - accuracy: 0.6629\n",
            "Epoch 35/40\n",
            "436/436 [==============================] - 3s 7ms/step - loss: 1.0873 - accuracy: 0.6623\n",
            "Epoch 36/40\n",
            "436/436 [==============================] - 3s 7ms/step - loss: 1.0857 - accuracy: 0.6615\n",
            "Epoch 37/40\n",
            "436/436 [==============================] - 3s 7ms/step - loss: 1.0793 - accuracy: 0.6643\n",
            "Epoch 38/40\n",
            "436/436 [==============================] - 3s 7ms/step - loss: 1.0811 - accuracy: 0.6643\n",
            "Epoch 39/40\n",
            "436/436 [==============================] - 3s 7ms/step - loss: 1.0795 - accuracy: 0.6642\n",
            "Epoch 40/40\n",
            "436/436 [==============================] - 3s 8ms/step - loss: 1.0857 - accuracy: 0.6621\n"
          ]
        }
      ]
    },
    {
      "cell_type": "code",
      "source": [
        "# final_accuracy = history.history['accuracy'][-1]\n",
        "# print(f\"Final Training Accuracy: {final_accuracy * 100:.2f}%\")"
      ],
      "metadata": {
        "colab": {
          "base_uri": "https://localhost:8080/"
        },
        "id": "wI9yL-S00WF6",
        "outputId": "69c01bef-aaa1-40c1-a25c-9a12d9aeb623"
      },
      "execution_count": null,
      "outputs": [
        {
          "output_type": "stream",
          "name": "stdout",
          "text": [
            "Final Training Accuracy: 66.21%\n"
          ]
        }
      ]
    },
    {
      "cell_type": "code",
      "source": [
        "# history = model.fit(X, y, batch_size=1024, epochs=20)"
      ],
      "metadata": {
        "colab": {
          "base_uri": "https://localhost:8080/"
        },
        "id": "7ambjTP31AS7",
        "outputId": "76aee4e5-fc28-444a-9286-29818544d3ee"
      },
      "execution_count": null,
      "outputs": [
        {
          "output_type": "stream",
          "name": "stdout",
          "text": [
            "Epoch 1/20\n",
            "218/218 [==============================] - 3s 12ms/step - loss: 1.1022 - accuracy: 0.6568\n",
            "Epoch 2/20\n",
            "218/218 [==============================] - 2s 11ms/step - loss: 1.0606 - accuracy: 0.6715\n",
            "Epoch 3/20\n",
            "218/218 [==============================] - 2s 10ms/step - loss: 1.0421 - accuracy: 0.6779\n",
            "Epoch 4/20\n",
            "218/218 [==============================] - 2s 10ms/step - loss: 1.0322 - accuracy: 0.6809\n",
            "Epoch 5/20\n",
            "218/218 [==============================] - 2s 10ms/step - loss: 1.0268 - accuracy: 0.6837\n",
            "Epoch 6/20\n",
            "218/218 [==============================] - 2s 11ms/step - loss: 1.0240 - accuracy: 0.6843\n",
            "Epoch 7/20\n",
            "218/218 [==============================] - 2s 11ms/step - loss: 1.0226 - accuracy: 0.6843\n",
            "Epoch 8/20\n",
            "218/218 [==============================] - 2s 10ms/step - loss: 1.0227 - accuracy: 0.6848\n",
            "Epoch 9/20\n",
            "218/218 [==============================] - 2s 10ms/step - loss: 1.0235 - accuracy: 0.6837\n",
            "Epoch 10/20\n",
            "218/218 [==============================] - 2s 10ms/step - loss: 1.0258 - accuracy: 0.6832\n",
            "Epoch 11/20\n",
            "218/218 [==============================] - 2s 10ms/step - loss: 1.0271 - accuracy: 0.6825\n",
            "Epoch 12/20\n",
            "218/218 [==============================] - 2s 11ms/step - loss: 1.0322 - accuracy: 0.6806\n",
            "Epoch 13/20\n",
            "218/218 [==============================] - 2s 11ms/step - loss: 1.0280 - accuracy: 0.6821\n",
            "Epoch 14/20\n",
            "218/218 [==============================] - 2s 10ms/step - loss: 1.0285 - accuracy: 0.6814\n",
            "Epoch 15/20\n",
            "218/218 [==============================] - 2s 10ms/step - loss: 1.0291 - accuracy: 0.6814\n",
            "Epoch 16/20\n",
            "218/218 [==============================] - 2s 11ms/step - loss: 1.0279 - accuracy: 0.6820\n",
            "Epoch 17/20\n",
            "218/218 [==============================] - 2s 11ms/step - loss: 1.0279 - accuracy: 0.6816\n",
            "Epoch 18/20\n",
            "218/218 [==============================] - 3s 12ms/step - loss: 1.0313 - accuracy: 0.6800\n",
            "Epoch 19/20\n",
            "218/218 [==============================] - 2s 10ms/step - loss: 1.0323 - accuracy: 0.6804\n",
            "Epoch 20/20\n",
            "218/218 [==============================] - 2s 10ms/step - loss: 1.0299 - accuracy: 0.6809\n"
          ]
        }
      ]
    },
    {
      "cell_type": "code",
      "source": [
        "# final_accuracy = history.history['accuracy'][-1]\n",
        "# print(f\"Final Training Accuracy: {final_accuracy * 100:.2f}%\")"
      ],
      "metadata": {
        "colab": {
          "base_uri": "https://localhost:8080/"
        },
        "id": "Ba4kB0r51AWa",
        "outputId": "71f7c5e3-4a60-4923-913d-53f4e97ace64"
      },
      "execution_count": null,
      "outputs": [
        {
          "output_type": "stream",
          "name": "stdout",
          "text": [
            "Final Training Accuracy: 68.09%\n"
          ]
        }
      ]
    },
    {
      "cell_type": "code",
      "source": [
        "# history = model.fit(X, y, batch_size=1024, epochs=20)"
      ],
      "metadata": {
        "colab": {
          "base_uri": "https://localhost:8080/"
        },
        "id": "ojHlqz1Z1irT",
        "outputId": "2ea345f6-8cd6-479b-cc52-731ea0f079ed"
      },
      "execution_count": null,
      "outputs": [
        {
          "output_type": "stream",
          "name": "stdout",
          "text": [
            "Epoch 1/20\n",
            "218/218 [==============================] - 2s 11ms/step - loss: 1.0255 - accuracy: 0.6820\n",
            "Epoch 2/20\n",
            "218/218 [==============================] - 2s 10ms/step - loss: 1.0261 - accuracy: 0.6824\n",
            "Epoch 3/20\n",
            "218/218 [==============================] - 2s 10ms/step - loss: 1.0288 - accuracy: 0.6814\n",
            "Epoch 4/20\n",
            "218/218 [==============================] - 2s 11ms/step - loss: 1.0283 - accuracy: 0.6814\n",
            "Epoch 5/20\n",
            "218/218 [==============================] - 2s 11ms/step - loss: 1.0269 - accuracy: 0.6815\n",
            "Epoch 6/20\n",
            "218/218 [==============================] - 2s 10ms/step - loss: 1.0265 - accuracy: 0.6817\n",
            "Epoch 7/20\n",
            "218/218 [==============================] - 2s 10ms/step - loss: 1.0243 - accuracy: 0.6830\n",
            "Epoch 8/20\n",
            "218/218 [==============================] - 2s 10ms/step - loss: 1.0232 - accuracy: 0.6831\n",
            "Epoch 9/20\n",
            "218/218 [==============================] - 2s 10ms/step - loss: 1.0233 - accuracy: 0.6829\n",
            "Epoch 10/20\n",
            "218/218 [==============================] - 2s 11ms/step - loss: 1.0220 - accuracy: 0.6834\n",
            "Epoch 11/20\n",
            "218/218 [==============================] - 2s 11ms/step - loss: 1.0251 - accuracy: 0.6820\n",
            "Epoch 12/20\n",
            "218/218 [==============================] - 2s 10ms/step - loss: 1.0220 - accuracy: 0.6839\n",
            "Epoch 13/20\n",
            "218/218 [==============================] - 2s 11ms/step - loss: 1.0217 - accuracy: 0.6836\n",
            "Epoch 14/20\n",
            "218/218 [==============================] - 3s 12ms/step - loss: 1.0211 - accuracy: 0.6843\n",
            "Epoch 15/20\n",
            "218/218 [==============================] - 3s 11ms/step - loss: 1.0174 - accuracy: 0.6852\n",
            "Epoch 16/20\n",
            "218/218 [==============================] - 2s 11ms/step - loss: 1.0190 - accuracy: 0.6842\n",
            "Epoch 17/20\n",
            "218/218 [==============================] - 2s 10ms/step - loss: 1.0216 - accuracy: 0.6835\n",
            "Epoch 18/20\n",
            "218/218 [==============================] - 2s 10ms/step - loss: 1.0225 - accuracy: 0.6837\n",
            "Epoch 19/20\n",
            "218/218 [==============================] - 2s 10ms/step - loss: 1.0199 - accuracy: 0.6838\n",
            "Epoch 20/20\n",
            "218/218 [==============================] - 2s 11ms/step - loss: 1.0169 - accuracy: 0.6845\n"
          ]
        }
      ]
    },
    {
      "cell_type": "code",
      "source": [
        "# final_accuracy = history.history['accuracy'][-1]\n",
        "# print(f\"Final Training Accuracy: {final_accuracy * 100:.2f}%\")"
      ],
      "metadata": {
        "colab": {
          "base_uri": "https://localhost:8080/"
        },
        "id": "JXiOoBCs1kBb",
        "outputId": "a768aa9e-e14b-407b-bd92-ef7f0654f57f"
      },
      "execution_count": null,
      "outputs": [
        {
          "output_type": "stream",
          "name": "stdout",
          "text": [
            "Final Training Accuracy: 68.45%\n"
          ]
        }
      ]
    },
    {
      "cell_type": "code",
      "source": [
        "# history = model.fit(X, y, batch_size=1024, epochs=50)"
      ],
      "metadata": {
        "colab": {
          "base_uri": "https://localhost:8080/"
        },
        "id": "Ye8lJGK116u6",
        "outputId": "20757c29-f1f4-4636-9cf4-096ce9e0d6e3"
      },
      "execution_count": null,
      "outputs": [
        {
          "output_type": "stream",
          "name": "stdout",
          "text": [
            "Epoch 1/50\n",
            "218/218 [==============================] - 2s 11ms/step - loss: 1.0168 - accuracy: 0.6851\n",
            "Epoch 2/50\n",
            "218/218 [==============================] - 3s 12ms/step - loss: 1.0250 - accuracy: 0.6816\n",
            "Epoch 3/50\n",
            "218/218 [==============================] - 2s 11ms/step - loss: 1.0194 - accuracy: 0.6840\n",
            "Epoch 4/50\n",
            "218/218 [==============================] - 2s 10ms/step - loss: 1.0215 - accuracy: 0.6841\n",
            "Epoch 5/50\n",
            "218/218 [==============================] - 2s 10ms/step - loss: 1.0185 - accuracy: 0.6839\n",
            "Epoch 6/50\n",
            "218/218 [==============================] - 2s 10ms/step - loss: 1.0218 - accuracy: 0.6828\n",
            "Epoch 7/50\n",
            "218/218 [==============================] - 2s 11ms/step - loss: 1.0154 - accuracy: 0.6853\n",
            "Epoch 8/50\n",
            "218/218 [==============================] - 2s 11ms/step - loss: 1.0140 - accuracy: 0.6857\n",
            "Epoch 9/50\n",
            "218/218 [==============================] - 2s 10ms/step - loss: 1.0162 - accuracy: 0.6850\n",
            "Epoch 10/50\n",
            "218/218 [==============================] - 2s 10ms/step - loss: 1.0165 - accuracy: 0.6847\n",
            "Epoch 11/50\n",
            "218/218 [==============================] - 2s 10ms/step - loss: 1.0139 - accuracy: 0.6859\n",
            "Epoch 12/50\n",
            "218/218 [==============================] - 2s 11ms/step - loss: 1.0132 - accuracy: 0.6860\n",
            "Epoch 13/50\n",
            "218/218 [==============================] - 3s 12ms/step - loss: 1.0137 - accuracy: 0.6859\n",
            "Epoch 14/50\n",
            "218/218 [==============================] - 2s 11ms/step - loss: 1.0125 - accuracy: 0.6857\n",
            "Epoch 15/50\n",
            "218/218 [==============================] - 2s 10ms/step - loss: 1.0101 - accuracy: 0.6869\n",
            "Epoch 16/50\n",
            "218/218 [==============================] - 2s 11ms/step - loss: 1.0114 - accuracy: 0.6859\n",
            "Epoch 17/50\n",
            "218/218 [==============================] - 2s 10ms/step - loss: 1.0177 - accuracy: 0.6841\n",
            "Epoch 18/50\n",
            "218/218 [==============================] - 2s 11ms/step - loss: 1.0136 - accuracy: 0.6864\n",
            "Epoch 19/50\n",
            "218/218 [==============================] - 2s 11ms/step - loss: 1.0146 - accuracy: 0.6853\n",
            "Epoch 20/50\n",
            "218/218 [==============================] - 2s 10ms/step - loss: 1.0136 - accuracy: 0.6855\n",
            "Epoch 21/50\n",
            "218/218 [==============================] - 2s 10ms/step - loss: 1.0135 - accuracy: 0.6855\n",
            "Epoch 22/50\n",
            "218/218 [==============================] - 2s 10ms/step - loss: 1.0145 - accuracy: 0.6851\n",
            "Epoch 23/50\n",
            "218/218 [==============================] - 2s 10ms/step - loss: 1.0124 - accuracy: 0.6861\n",
            "Epoch 24/50\n",
            "218/218 [==============================] - 2s 11ms/step - loss: 1.0073 - accuracy: 0.6878\n",
            "Epoch 25/50\n",
            "218/218 [==============================] - 2s 11ms/step - loss: 1.0087 - accuracy: 0.6881\n",
            "Epoch 26/50\n",
            "218/218 [==============================] - 2s 10ms/step - loss: 1.0068 - accuracy: 0.6874\n",
            "Epoch 27/50\n",
            "218/218 [==============================] - 2s 10ms/step - loss: 1.0060 - accuracy: 0.6877\n",
            "Epoch 28/50\n",
            "218/218 [==============================] - 2s 10ms/step - loss: 1.0080 - accuracy: 0.6869\n",
            "Epoch 29/50\n",
            "218/218 [==============================] - 2s 11ms/step - loss: 1.0107 - accuracy: 0.6861\n",
            "Epoch 30/50\n",
            "218/218 [==============================] - 2s 11ms/step - loss: 1.0092 - accuracy: 0.6869\n",
            "Epoch 31/50\n",
            "218/218 [==============================] - 2s 10ms/step - loss: 1.0047 - accuracy: 0.6879\n",
            "Epoch 32/50\n",
            "218/218 [==============================] - 2s 10ms/step - loss: 1.0094 - accuracy: 0.6865\n",
            "Epoch 33/50\n",
            "218/218 [==============================] - 2s 10ms/step - loss: 1.0053 - accuracy: 0.6884\n",
            "Epoch 34/50\n",
            "218/218 [==============================] - 2s 10ms/step - loss: 1.0089 - accuracy: 0.6869\n",
            "Epoch 35/50\n",
            "218/218 [==============================] - 3s 12ms/step - loss: 1.0105 - accuracy: 0.6861\n",
            "Epoch 36/50\n",
            "218/218 [==============================] - 2s 11ms/step - loss: 1.0072 - accuracy: 0.6873\n",
            "Epoch 37/50\n",
            "218/218 [==============================] - 2s 10ms/step - loss: 1.0051 - accuracy: 0.6881\n",
            "Epoch 38/50\n",
            "218/218 [==============================] - 2s 10ms/step - loss: 1.0109 - accuracy: 0.6863\n",
            "Epoch 39/50\n",
            "218/218 [==============================] - 2s 10ms/step - loss: 1.0053 - accuracy: 0.6874\n",
            "Epoch 40/50\n",
            "218/218 [==============================] - 2s 11ms/step - loss: 1.0044 - accuracy: 0.6893\n",
            "Epoch 41/50\n",
            "218/218 [==============================] - 2s 11ms/step - loss: 1.0077 - accuracy: 0.6878\n",
            "Epoch 42/50\n",
            "218/218 [==============================] - 2s 10ms/step - loss: 1.0105 - accuracy: 0.6862\n",
            "Epoch 43/50\n",
            "218/218 [==============================] - 2s 10ms/step - loss: 1.0123 - accuracy: 0.6852\n",
            "Epoch 44/50\n",
            "218/218 [==============================] - 2s 10ms/step - loss: 1.0145 - accuracy: 0.6847\n",
            "Epoch 45/50\n",
            "218/218 [==============================] - 2s 10ms/step - loss: 1.0049 - accuracy: 0.6884\n",
            "Epoch 46/50\n",
            "218/218 [==============================] - 2s 11ms/step - loss: 1.0035 - accuracy: 0.6892\n",
            "Epoch 47/50\n",
            "218/218 [==============================] - 2s 11ms/step - loss: 1.0022 - accuracy: 0.6893\n",
            "Epoch 48/50\n",
            "218/218 [==============================] - 2s 10ms/step - loss: 1.0065 - accuracy: 0.6869\n",
            "Epoch 49/50\n",
            "218/218 [==============================] - 2s 10ms/step - loss: 1.0075 - accuracy: 0.6871\n",
            "Epoch 50/50\n",
            "218/218 [==============================] - 2s 10ms/step - loss: 1.0046 - accuracy: 0.6881\n"
          ]
        }
      ]
    },
    {
      "cell_type": "code",
      "source": [
        "# final_accuracy = history.history['accuracy'][-1]\n",
        "# print(f\"Final Training Accuracy: {final_accuracy * 100:.2f}%\")"
      ],
      "metadata": {
        "colab": {
          "base_uri": "https://localhost:8080/"
        },
        "id": "VNIS5oKP18S3",
        "outputId": "0609c46b-cee8-4c6f-8863-ae8cf5b5129a"
      },
      "execution_count": null,
      "outputs": [
        {
          "output_type": "stream",
          "name": "stdout",
          "text": [
            "Final Training Accuracy: 68.81%\n"
          ]
        }
      ]
    },
    {
      "cell_type": "code",
      "source": [
        "# history = model.fit(X, y, batch_size=128, epochs=20)"
      ],
      "metadata": {
        "colab": {
          "base_uri": "https://localhost:8080/"
        },
        "id": "Ta_9OO8w2jZa",
        "outputId": "b741fecb-3154-43aa-964d-e3fd31d61381"
      },
      "execution_count": null,
      "outputs": [
        {
          "output_type": "stream",
          "name": "stdout",
          "text": [
            "Epoch 1/20\n",
            "1743/1743 [==============================] - 8s 5ms/step - loss: 1.3594 - accuracy: 0.5857\n",
            "Epoch 2/20\n",
            "1743/1743 [==============================] - 9s 5ms/step - loss: 1.2766 - accuracy: 0.6050\n",
            "Epoch 3/20\n",
            "1743/1743 [==============================] - 9s 5ms/step - loss: 1.2536 - accuracy: 0.6109\n",
            "Epoch 4/20\n",
            "1743/1743 [==============================] - 8s 5ms/step - loss: 1.2465 - accuracy: 0.6126\n",
            "Epoch 5/20\n",
            "1743/1743 [==============================] - 9s 5ms/step - loss: 1.2286 - accuracy: 0.6183\n",
            "Epoch 6/20\n",
            "1743/1743 [==============================] - 9s 5ms/step - loss: 1.2241 - accuracy: 0.6181\n",
            "Epoch 7/20\n",
            "1743/1743 [==============================] - 8s 5ms/step - loss: 1.2218 - accuracy: 0.6192\n",
            "Epoch 8/20\n",
            "1743/1743 [==============================] - 9s 5ms/step - loss: 1.2168 - accuracy: 0.6208\n",
            "Epoch 9/20\n",
            "1743/1743 [==============================] - 9s 5ms/step - loss: 1.2133 - accuracy: 0.6220\n",
            "Epoch 10/20\n",
            "1743/1743 [==============================] - 8s 5ms/step - loss: 1.2128 - accuracy: 0.6217\n",
            "Epoch 11/20\n",
            "1743/1743 [==============================] - 11s 6ms/step - loss: 1.2087 - accuracy: 0.6238\n",
            "Epoch 12/20\n",
            "1743/1743 [==============================] - 9s 5ms/step - loss: 1.2089 - accuracy: 0.6230\n",
            "Epoch 13/20\n",
            "1743/1743 [==============================] - 9s 5ms/step - loss: 1.2094 - accuracy: 0.6230\n",
            "Epoch 14/20\n",
            "1743/1743 [==============================] - 9s 5ms/step - loss: 1.2088 - accuracy: 0.6225\n",
            "Epoch 15/20\n",
            "1743/1743 [==============================] - 9s 5ms/step - loss: 1.2041 - accuracy: 0.6246\n",
            "Epoch 16/20\n",
            "1743/1743 [==============================] - 8s 5ms/step - loss: 1.2056 - accuracy: 0.6242\n",
            "Epoch 17/20\n",
            "1743/1743 [==============================] - 8s 5ms/step - loss: 1.2004 - accuracy: 0.6249\n",
            "Epoch 18/20\n",
            "1743/1743 [==============================] - 9s 5ms/step - loss: 1.2019 - accuracy: 0.6249\n",
            "Epoch 19/20\n",
            "1743/1743 [==============================] - 8s 5ms/step - loss: 1.2002 - accuracy: 0.6252\n",
            "Epoch 20/20\n",
            "1743/1743 [==============================] - 8s 5ms/step - loss: 1.1997 - accuracy: 0.6254\n"
          ]
        }
      ]
    },
    {
      "cell_type": "code",
      "source": [
        "# final_accuracy = history.history['accuracy'][-1]\n",
        "# print(f\"Final Training Accuracy: {final_accuracy * 100:.2f}%\")"
      ],
      "metadata": {
        "colab": {
          "base_uri": "https://localhost:8080/"
        },
        "id": "aisUdcfr2jcw",
        "outputId": "45f89f19-0f0e-4d79-b10a-9e3609858d12"
      },
      "execution_count": null,
      "outputs": [
        {
          "output_type": "stream",
          "name": "stdout",
          "text": [
            "Final Training Accuracy: 62.54%\n"
          ]
        }
      ]
    },
    {
      "cell_type": "code",
      "source": [
        "history = model.fit(X, y, epochs=20, batch_size=512, callbacks=[checkpoint, early_stopping])\n",
        "\n",
        "# Access validation loss and accuracy from the history object\n",
        "val_loss = history.history['val_loss']\n",
        "val_accuracy = history.history['val_accuracy']\n",
        "\n",
        "# Print the validation loss and accuracy\n",
        "print(f'Validation Loss: {val_loss[-1]}')\n",
        "print(f'Validation Accuracy: {val_accuracy[-1]}')"
      ],
      "metadata": {
        "colab": {
          "base_uri": "https://localhost:8080/",
          "height": 1000
        },
        "id": "ozxZtkDD3ilZ",
        "outputId": "87ff616a-3661-48c6-e3eb-e834b92c8aaa"
      },
      "execution_count": null,
      "outputs": [
        {
          "output_type": "stream",
          "name": "stdout",
          "text": [
            "Epoch 1/20\n",
            "434/436 [============================>.] - ETA: 0s - loss: 1.1356 - accuracy: 0.6461"
          ]
        },
        {
          "output_type": "stream",
          "name": "stderr",
          "text": [
            "WARNING:tensorflow:Can save best model only with val_loss available, skipping.\n",
            "WARNING:tensorflow:Early stopping conditioned on metric `val_loss` which is not available. Available metrics are: loss,accuracy\n"
          ]
        },
        {
          "output_type": "stream",
          "name": "stdout",
          "text": [
            "\b\b\b\b\b\b\b\b\b\b\b\b\b\b\b\b\b\b\b\b\b\b\b\b\b\b\b\b\b\b\b\b\b\b\b\b\b\b\b\b\b\b\b\b\b\b\b\b\b\b\b\b\b\b\b\b\b\b\b\b\b\b\b\b\b\b\b\b\b\b\b\b\b\b\b\b\b\b\b\b\b\b\b\b\r436/436 [==============================] - 5s 7ms/step - loss: 1.1358 - accuracy: 0.6460\n",
            "Epoch 2/20\n",
            "431/436 [============================>.] - ETA: 0s - loss: 1.1154 - accuracy: 0.6529"
          ]
        },
        {
          "output_type": "stream",
          "name": "stderr",
          "text": [
            "WARNING:tensorflow:Can save best model only with val_loss available, skipping.\n",
            "WARNING:tensorflow:Early stopping conditioned on metric `val_loss` which is not available. Available metrics are: loss,accuracy\n"
          ]
        },
        {
          "output_type": "stream",
          "name": "stdout",
          "text": [
            "\b\b\b\b\b\b\b\b\b\b\b\b\b\b\b\b\b\b\b\b\b\b\b\b\b\b\b\b\b\b\b\b\b\b\b\b\b\b\b\b\b\b\b\b\b\b\b\b\b\b\b\b\b\b\b\b\b\b\b\b\b\b\b\b\b\b\b\b\b\b\b\b\b\b\b\b\b\b\b\b\b\b\b\b\r436/436 [==============================] - 3s 7ms/step - loss: 1.1148 - accuracy: 0.6531\n",
            "Epoch 3/20\n",
            "434/436 [============================>.] - ETA: 0s - loss: 1.1085 - accuracy: 0.6552"
          ]
        },
        {
          "output_type": "stream",
          "name": "stderr",
          "text": [
            "WARNING:tensorflow:Can save best model only with val_loss available, skipping.\n",
            "WARNING:tensorflow:Early stopping conditioned on metric `val_loss` which is not available. Available metrics are: loss,accuracy\n"
          ]
        },
        {
          "output_type": "stream",
          "name": "stdout",
          "text": [
            "\b\b\b\b\b\b\b\b\b\b\b\b\b\b\b\b\b\b\b\b\b\b\b\b\b\b\b\b\b\b\b\b\b\b\b\b\b\b\b\b\b\b\b\b\b\b\b\b\b\b\b\b\b\b\b\b\b\b\b\b\b\b\b\b\b\b\b\b\b\b\b\b\b\b\b\b\b\b\b\b\b\b\b\b\r436/436 [==============================] - 3s 6ms/step - loss: 1.1087 - accuracy: 0.6552\n",
            "Epoch 4/20\n",
            "436/436 [==============================] - ETA: 0s - loss: 1.1033 - accuracy: 0.6566"
          ]
        },
        {
          "output_type": "stream",
          "name": "stderr",
          "text": [
            "WARNING:tensorflow:Can save best model only with val_loss available, skipping.\n",
            "WARNING:tensorflow:Early stopping conditioned on metric `val_loss` which is not available. Available metrics are: loss,accuracy\n"
          ]
        },
        {
          "output_type": "stream",
          "name": "stdout",
          "text": [
            "\b\b\b\b\b\b\b\b\b\b\b\b\b\b\b\b\b\b\b\b\b\b\b\b\b\b\b\b\b\b\b\b\b\b\b\b\b\b\b\b\b\b\b\b\b\b\b\b\b\b\b\b\b\b\b\b\b\b\b\b\b\b\b\b\b\b\b\b\b\b\b\b\b\b\b\b\b\b\b\b\b\b\b\b\r436/436 [==============================] - 3s 7ms/step - loss: 1.1033 - accuracy: 0.6566\n",
            "Epoch 5/20\n",
            "431/436 [============================>.] - ETA: 0s - loss: 1.1012 - accuracy: 0.6574"
          ]
        },
        {
          "output_type": "stream",
          "name": "stderr",
          "text": [
            "WARNING:tensorflow:Can save best model only with val_loss available, skipping.\n",
            "WARNING:tensorflow:Early stopping conditioned on metric `val_loss` which is not available. Available metrics are: loss,accuracy\n"
          ]
        },
        {
          "output_type": "stream",
          "name": "stdout",
          "text": [
            "\b\b\b\b\b\b\b\b\b\b\b\b\b\b\b\b\b\b\b\b\b\b\b\b\b\b\b\b\b\b\b\b\b\b\b\b\b\b\b\b\b\b\b\b\b\b\b\b\b\b\b\b\b\b\b\b\b\b\b\b\b\b\b\b\b\b\b\b\b\b\b\b\b\b\b\b\b\b\b\b\b\b\b\b\r436/436 [==============================] - 3s 7ms/step - loss: 1.1009 - accuracy: 0.6576\n",
            "Epoch 6/20\n",
            "435/436 [============================>.] - ETA: 0s - loss: 1.0959 - accuracy: 0.6585"
          ]
        },
        {
          "output_type": "stream",
          "name": "stderr",
          "text": [
            "WARNING:tensorflow:Can save best model only with val_loss available, skipping.\n",
            "WARNING:tensorflow:Early stopping conditioned on metric `val_loss` which is not available. Available metrics are: loss,accuracy\n"
          ]
        },
        {
          "output_type": "stream",
          "name": "stdout",
          "text": [
            "\b\b\b\b\b\b\b\b\b\b\b\b\b\b\b\b\b\b\b\b\b\b\b\b\b\b\b\b\b\b\b\b\b\b\b\b\b\b\b\b\b\b\b\b\b\b\b\b\b\b\b\b\b\b\b\b\b\b\b\b\b\b\b\b\b\b\b\b\b\b\b\b\b\b\b\b\b\b\b\b\b\b\b\b\r436/436 [==============================] - 3s 8ms/step - loss: 1.0959 - accuracy: 0.6585\n",
            "Epoch 7/20\n",
            "429/436 [============================>.] - ETA: 0s - loss: 1.0935 - accuracy: 0.6592"
          ]
        },
        {
          "output_type": "stream",
          "name": "stderr",
          "text": [
            "WARNING:tensorflow:Can save best model only with val_loss available, skipping.\n",
            "WARNING:tensorflow:Early stopping conditioned on metric `val_loss` which is not available. Available metrics are: loss,accuracy\n"
          ]
        },
        {
          "output_type": "stream",
          "name": "stdout",
          "text": [
            "\b\b\b\b\b\b\b\b\b\b\b\b\b\b\b\b\b\b\b\b\b\b\b\b\b\b\b\b\b\b\b\b\b\b\b\b\b\b\b\b\b\b\b\b\b\b\b\b\b\b\b\b\b\b\b\b\b\b\b\b\b\b\b\b\b\b\b\b\b\b\b\b\b\b\b\b\b\b\b\b\b\b\b\b\r436/436 [==============================] - 3s 7ms/step - loss: 1.0935 - accuracy: 0.6591\n",
            "Epoch 8/20\n",
            "430/436 [============================>.] - ETA: 0s - loss: 1.0941 - accuracy: 0.6597"
          ]
        },
        {
          "output_type": "stream",
          "name": "stderr",
          "text": [
            "WARNING:tensorflow:Can save best model only with val_loss available, skipping.\n",
            "WARNING:tensorflow:Early stopping conditioned on metric `val_loss` which is not available. Available metrics are: loss,accuracy\n"
          ]
        },
        {
          "output_type": "stream",
          "name": "stdout",
          "text": [
            "\b\b\b\b\b\b\b\b\b\b\b\b\b\b\b\b\b\b\b\b\b\b\b\b\b\b\b\b\b\b\b\b\b\b\b\b\b\b\b\b\b\b\b\b\b\b\b\b\b\b\b\b\b\b\b\b\b\b\b\b\b\b\b\b\b\b\b\b\b\b\b\b\b\b\b\b\b\b\b\b\b\b\b\b\r436/436 [==============================] - 3s 7ms/step - loss: 1.0938 - accuracy: 0.6598\n",
            "Epoch 9/20\n",
            "435/436 [============================>.] - ETA: 0s - loss: 1.0882 - accuracy: 0.6613"
          ]
        },
        {
          "output_type": "stream",
          "name": "stderr",
          "text": [
            "WARNING:tensorflow:Can save best model only with val_loss available, skipping.\n",
            "WARNING:tensorflow:Early stopping conditioned on metric `val_loss` which is not available. Available metrics are: loss,accuracy\n"
          ]
        },
        {
          "output_type": "stream",
          "name": "stdout",
          "text": [
            "\b\b\b\b\b\b\b\b\b\b\b\b\b\b\b\b\b\b\b\b\b\b\b\b\b\b\b\b\b\b\b\b\b\b\b\b\b\b\b\b\b\b\b\b\b\b\b\b\b\b\b\b\b\b\b\b\b\b\b\b\b\b\b\b\b\b\b\b\b\b\b\b\b\b\b\b\b\b\b\b\b\b\b\b\r436/436 [==============================] - 3s 7ms/step - loss: 1.0881 - accuracy: 0.6613\n",
            "Epoch 10/20\n",
            "435/436 [============================>.] - ETA: 0s - loss: 1.0861 - accuracy: 0.6625"
          ]
        },
        {
          "output_type": "stream",
          "name": "stderr",
          "text": [
            "WARNING:tensorflow:Can save best model only with val_loss available, skipping.\n",
            "WARNING:tensorflow:Early stopping conditioned on metric `val_loss` which is not available. Available metrics are: loss,accuracy\n"
          ]
        },
        {
          "output_type": "stream",
          "name": "stdout",
          "text": [
            "\b\b\b\b\b\b\b\b\b\b\b\b\b\b\b\b\b\b\b\b\b\b\b\b\b\b\b\b\b\b\b\b\b\b\b\b\b\b\b\b\b\b\b\b\b\b\b\b\b\b\b\b\b\b\b\b\b\b\b\b\b\b\b\b\b\b\b\b\b\b\b\b\b\b\b\b\b\b\b\b\b\b\b\b\r436/436 [==============================] - 3s 7ms/step - loss: 1.0862 - accuracy: 0.6624\n",
            "Epoch 11/20\n",
            "434/436 [============================>.] - ETA: 0s - loss: 1.0846 - accuracy: 0.6615"
          ]
        },
        {
          "output_type": "stream",
          "name": "stderr",
          "text": [
            "WARNING:tensorflow:Can save best model only with val_loss available, skipping.\n",
            "WARNING:tensorflow:Early stopping conditioned on metric `val_loss` which is not available. Available metrics are: loss,accuracy\n"
          ]
        },
        {
          "output_type": "stream",
          "name": "stdout",
          "text": [
            "\b\b\b\b\b\b\b\b\b\b\b\b\b\b\b\b\b\b\b\b\b\b\b\b\b\b\b\b\b\b\b\b\b\b\b\b\b\b\b\b\b\b\b\b\b\b\b\b\b\b\b\b\b\b\b\b\b\b\b\b\b\b\b\b\b\b\b\b\b\b\b\b\b\b\b\b\b\b\b\b\b\b\b\b\r436/436 [==============================] - 3s 7ms/step - loss: 1.0846 - accuracy: 0.6615\n",
            "Epoch 12/20\n",
            "430/436 [============================>.] - ETA: 0s - loss: 1.0829 - accuracy: 0.6626"
          ]
        },
        {
          "output_type": "stream",
          "name": "stderr",
          "text": [
            "WARNING:tensorflow:Can save best model only with val_loss available, skipping.\n",
            "WARNING:tensorflow:Early stopping conditioned on metric `val_loss` which is not available. Available metrics are: loss,accuracy\n"
          ]
        },
        {
          "output_type": "stream",
          "name": "stdout",
          "text": [
            "\b\b\b\b\b\b\b\b\b\b\b\b\b\b\b\b\b\b\b\b\b\b\b\b\b\b\b\b\b\b\b\b\b\b\b\b\b\b\b\b\b\b\b\b\b\b\b\b\b\b\b\b\b\b\b\b\b\b\b\b\b\b\b\b\b\b\b\b\b\b\b\b\b\b\b\b\b\b\b\b\b\b\b\b\r436/436 [==============================] - 3s 7ms/step - loss: 1.0833 - accuracy: 0.6624\n",
            "Epoch 13/20\n",
            "431/436 [============================>.] - ETA: 0s - loss: 1.0817 - accuracy: 0.6629"
          ]
        },
        {
          "output_type": "stream",
          "name": "stderr",
          "text": [
            "WARNING:tensorflow:Can save best model only with val_loss available, skipping.\n",
            "WARNING:tensorflow:Early stopping conditioned on metric `val_loss` which is not available. Available metrics are: loss,accuracy\n"
          ]
        },
        {
          "output_type": "stream",
          "name": "stdout",
          "text": [
            "\b\b\b\b\b\b\b\b\b\b\b\b\b\b\b\b\b\b\b\b\b\b\b\b\b\b\b\b\b\b\b\b\b\b\b\b\b\b\b\b\b\b\b\b\b\b\b\b\b\b\b\b\b\b\b\b\b\b\b\b\b\b\b\b\b\b\b\b\b\b\b\b\b\b\b\b\b\b\b\b\b\b\b\b\r436/436 [==============================] - 3s 7ms/step - loss: 1.0820 - accuracy: 0.6628\n",
            "Epoch 14/20\n",
            "433/436 [============================>.] - ETA: 0s - loss: 1.0797 - accuracy: 0.6637"
          ]
        },
        {
          "output_type": "stream",
          "name": "stderr",
          "text": [
            "WARNING:tensorflow:Can save best model only with val_loss available, skipping.\n",
            "WARNING:tensorflow:Early stopping conditioned on metric `val_loss` which is not available. Available metrics are: loss,accuracy\n"
          ]
        },
        {
          "output_type": "stream",
          "name": "stdout",
          "text": [
            "\b\b\b\b\b\b\b\b\b\b\b\b\b\b\b\b\b\b\b\b\b\b\b\b\b\b\b\b\b\b\b\b\b\b\b\b\b\b\b\b\b\b\b\b\b\b\b\b\b\b\b\b\b\b\b\b\b\b\b\b\b\b\b\b\b\b\b\b\b\b\b\b\b\b\b\b\b\b\b\b\b\b\b\b\r436/436 [==============================] - 3s 7ms/step - loss: 1.0797 - accuracy: 0.6636\n",
            "Epoch 15/20\n",
            "433/436 [============================>.] - ETA: 0s - loss: 1.0786 - accuracy: 0.6643"
          ]
        },
        {
          "output_type": "stream",
          "name": "stderr",
          "text": [
            "WARNING:tensorflow:Can save best model only with val_loss available, skipping.\n",
            "WARNING:tensorflow:Early stopping conditioned on metric `val_loss` which is not available. Available metrics are: loss,accuracy\n"
          ]
        },
        {
          "output_type": "stream",
          "name": "stdout",
          "text": [
            "\b\b\b\b\b\b\b\b\b\b\b\b\b\b\b\b\b\b\b\b\b\b\b\b\b\b\b\b\b\b\b\b\b\b\b\b\b\b\b\b\b\b\b\b\b\b\b\b\b\b\b\b\b\b\b\b\b\b\b\b\b\b\b\b\b\b\b\b\b\b\b\b\b\b\b\b\b\b\b\b\b\b\b\b\r436/436 [==============================] - 3s 7ms/step - loss: 1.0790 - accuracy: 0.6642\n",
            "Epoch 16/20\n",
            "429/436 [============================>.] - ETA: 0s - loss: 1.0779 - accuracy: 0.6636"
          ]
        },
        {
          "output_type": "stream",
          "name": "stderr",
          "text": [
            "WARNING:tensorflow:Can save best model only with val_loss available, skipping.\n",
            "WARNING:tensorflow:Early stopping conditioned on metric `val_loss` which is not available. Available metrics are: loss,accuracy\n"
          ]
        },
        {
          "output_type": "stream",
          "name": "stdout",
          "text": [
            "\b\b\b\b\b\b\b\b\b\b\b\b\b\b\b\b\b\b\b\b\b\b\b\b\b\b\b\b\b\b\b\b\b\b\b\b\b\b\b\b\b\b\b\b\b\b\b\b\b\b\b\b\b\b\b\b\b\b\b\b\b\b\b\b\b\b\b\b\b\b\b\b\b\b\b\b\b\b\b\b\b\b\b\b\r436/436 [==============================] - 3s 7ms/step - loss: 1.0781 - accuracy: 0.6636\n",
            "Epoch 17/20\n",
            "430/436 [============================>.] - ETA: 0s - loss: 1.0746 - accuracy: 0.6642"
          ]
        },
        {
          "output_type": "stream",
          "name": "stderr",
          "text": [
            "WARNING:tensorflow:Can save best model only with val_loss available, skipping.\n",
            "WARNING:tensorflow:Early stopping conditioned on metric `val_loss` which is not available. Available metrics are: loss,accuracy\n"
          ]
        },
        {
          "output_type": "stream",
          "name": "stdout",
          "text": [
            "\b\b\b\b\b\b\b\b\b\b\b\b\b\b\b\b\b\b\b\b\b\b\b\b\b\b\b\b\b\b\b\b\b\b\b\b\b\b\b\b\b\b\b\b\b\b\b\b\b\b\b\b\b\b\b\b\b\b\b\b\b\b\b\b\b\b\b\b\b\b\b\b\b\b\b\b\b\b\b\b\b\b\b\b\r436/436 [==============================] - 3s 7ms/step - loss: 1.0749 - accuracy: 0.6641\n",
            "Epoch 18/20\n",
            "430/436 [============================>.] - ETA: 0s - loss: 1.0751 - accuracy: 0.6647"
          ]
        },
        {
          "output_type": "stream",
          "name": "stderr",
          "text": [
            "WARNING:tensorflow:Can save best model only with val_loss available, skipping.\n",
            "WARNING:tensorflow:Early stopping conditioned on metric `val_loss` which is not available. Available metrics are: loss,accuracy\n"
          ]
        },
        {
          "output_type": "stream",
          "name": "stdout",
          "text": [
            "\b\b\b\b\b\b\b\b\b\b\b\b\b\b\b\b\b\b\b\b\b\b\b\b\b\b\b\b\b\b\b\b\b\b\b\b\b\b\b\b\b\b\b\b\b\b\b\b\b\b\b\b\b\b\b\b\b\b\b\b\b\b\b\b\b\b\b\b\b\b\b\b\b\b\b\b\b\b\b\b\b\b\b\b\r436/436 [==============================] - 3s 7ms/step - loss: 1.0752 - accuracy: 0.6646\n",
            "Epoch 19/20\n",
            "432/436 [============================>.] - ETA: 0s - loss: 1.0722 - accuracy: 0.6653"
          ]
        },
        {
          "output_type": "stream",
          "name": "stderr",
          "text": [
            "WARNING:tensorflow:Can save best model only with val_loss available, skipping.\n",
            "WARNING:tensorflow:Early stopping conditioned on metric `val_loss` which is not available. Available metrics are: loss,accuracy\n"
          ]
        },
        {
          "output_type": "stream",
          "name": "stdout",
          "text": [
            "\b\b\b\b\b\b\b\b\b\b\b\b\b\b\b\b\b\b\b\b\b\b\b\b\b\b\b\b\b\b\b\b\b\b\b\b\b\b\b\b\b\b\b\b\b\b\b\b\b\b\b\b\b\b\b\b\b\b\b\b\b\b\b\b\b\b\b\b\b\b\b\b\b\b\b\b\b\b\b\b\b\b\b\b\r436/436 [==============================] - 3s 7ms/step - loss: 1.0723 - accuracy: 0.6653\n",
            "Epoch 20/20\n",
            "431/436 [============================>.] - ETA: 0s - loss: 1.0720 - accuracy: 0.6655"
          ]
        },
        {
          "output_type": "stream",
          "name": "stderr",
          "text": [
            "WARNING:tensorflow:Can save best model only with val_loss available, skipping.\n",
            "WARNING:tensorflow:Early stopping conditioned on metric `val_loss` which is not available. Available metrics are: loss,accuracy\n"
          ]
        },
        {
          "output_type": "stream",
          "name": "stdout",
          "text": [
            "\b\b\b\b\b\b\b\b\b\b\b\b\b\b\b\b\b\b\b\b\b\b\b\b\b\b\b\b\b\b\b\b\b\b\b\b\b\b\b\b\b\b\b\b\b\b\b\b\b\b\b\b\b\b\b\b\b\b\b\b\b\b\b\b\b\b\b\b\b\b\b\b\b\b\b\b\b\b\b\b\b\b\b\b\r436/436 [==============================] - 3s 7ms/step - loss: 1.0722 - accuracy: 0.6654\n"
          ]
        },
        {
          "output_type": "error",
          "ename": "KeyError",
          "evalue": "ignored",
          "traceback": [
            "\u001b[0;31m---------------------------------------------------------------------------\u001b[0m",
            "\u001b[0;31mKeyError\u001b[0m                                  Traceback (most recent call last)",
            "\u001b[0;32m<ipython-input-40-ec8d10bb6717>\u001b[0m in \u001b[0;36m<cell line: 4>\u001b[0;34m()\u001b[0m\n\u001b[1;32m      2\u001b[0m \u001b[0;34m\u001b[0m\u001b[0m\n\u001b[1;32m      3\u001b[0m \u001b[0;31m# Access validation loss and accuracy from the history object\u001b[0m\u001b[0;34m\u001b[0m\u001b[0;34m\u001b[0m\u001b[0m\n\u001b[0;32m----> 4\u001b[0;31m \u001b[0mval_loss\u001b[0m \u001b[0;34m=\u001b[0m \u001b[0mhistory\u001b[0m\u001b[0;34m.\u001b[0m\u001b[0mhistory\u001b[0m\u001b[0;34m[\u001b[0m\u001b[0;34m'val_loss'\u001b[0m\u001b[0;34m]\u001b[0m\u001b[0;34m\u001b[0m\u001b[0;34m\u001b[0m\u001b[0m\n\u001b[0m\u001b[1;32m      5\u001b[0m \u001b[0mval_accuracy\u001b[0m \u001b[0;34m=\u001b[0m \u001b[0mhistory\u001b[0m\u001b[0;34m.\u001b[0m\u001b[0mhistory\u001b[0m\u001b[0;34m[\u001b[0m\u001b[0;34m'val_accuracy'\u001b[0m\u001b[0;34m]\u001b[0m\u001b[0;34m\u001b[0m\u001b[0;34m\u001b[0m\u001b[0m\n\u001b[1;32m      6\u001b[0m \u001b[0;34m\u001b[0m\u001b[0m\n",
            "\u001b[0;31mKeyError\u001b[0m: 'val_loss'"
          ]
        }
      ]
    },
    {
      "cell_type": "code",
      "source": [],
      "metadata": {
        "id": "wS1JTTdJcq6I"
      },
      "execution_count": null,
      "outputs": []
    },
    {
      "cell_type": "code",
      "source": [
        "final_loss = history.history['loss'][-1]\n",
        "\n",
        "# Calculate perplexity\n",
        "perplexity = np.exp(final_loss)\n",
        "\n",
        "# Print the perplexity\n",
        "print(f\"Final Perplexity: {perplexity:.2f}\")"
      ],
      "metadata": {
        "colab": {
          "base_uri": "https://localhost:8080/"
        },
        "id": "cHf_hAuESMOt",
        "outputId": "19a00808-ae48-4e2c-ca34-75c3fec379e7"
      },
      "execution_count": null,
      "outputs": [
        {
          "output_type": "stream",
          "name": "stdout",
          "text": [
            "Final Perplexity: 4.05\n"
          ]
        }
      ]
    },
    {
      "cell_type": "code",
      "source": [
        "from matplotlib import pyplot\n",
        "pyplot.plot(history.history['loss'])\n",
        "pyplot.plot(history.history['accuracy'])\n",
        "pyplot.title('model loss vs accuracy')\n",
        "pyplot.xlabel('epoch')\n",
        "pyplot.legend(['loss', 'accuracy'], loc='upper right')\n",
        "pyplot.show()"
      ],
      "metadata": {
        "colab": {
          "base_uri": "https://localhost:8080/",
          "height": 472
        },
        "id": "xTlgPx5QjbhM",
        "outputId": "9198e5c9-a6f8-46a4-f045-2b2ed04fd1be"
      },
      "execution_count": null,
      "outputs": [
        {
          "output_type": "display_data",
          "data": {
            "text/plain": [
              "<Figure size 640x480 with 1 Axes>"
            ],
            "image/png": "[encoded data removed]"
          },
          "metadata": {}
        }
      ]
    },
    {
      "cell_type": "code",
      "source": [
        "model.fit(X, y, batch_size=256, epochs=20, validation_split=0.2, callbacks=callbacks)\n"
      ],
      "metadata": {
        "id": "_-KKdKapcrvV"
      },
      "execution_count": null,
      "outputs": []
    },
    {
      "cell_type": "code",
      "source": [
        "def generate_text(length, diversity):\n",
        "\t# Get random starting text\n",
        "\tstart_index = random.randint(0, len(text) - max_length - 1)\n",
        "\n",
        "\t# Defining the generated text\n",
        "\tgenerated = ''\n",
        "\tsentence = text[start_index: start_index + max_length]\n",
        "\tgenerated += sentence\n",
        "\n",
        "\t# Generating new text of given length\n",
        "\tfor i in range(length):\n",
        "\n",
        "\t\t\t# Initializing the prediction vector\n",
        "\t\t\tx_pred = np.zeros((1, max_length, len(vocabulary)))\n",
        "\t\t\tfor t, char in enumerate(sentence):\n",
        "\t\t\t\tx_pred[0, t, char_to_indices[char]] = 1.\n",
        "\n",
        "\t\t\t# Making the predictions\n",
        "\t\t\tpreds = model.predict(x_pred, verbose = 0)[0]\n",
        "\n",
        "\t\t\t# Getting the index of the next most probable index\n",
        "\t\t\tnext_index = sample_index(preds, diversity)\n",
        "\n",
        "\t\t\t# Getting the most probable next character using the mapping built\n",
        "\t\t\tnext_char = indices_to_char[next_index]\n",
        "\n",
        "\t\t\t# Generating new text\n",
        "\t\t\tgenerated += next_char\n",
        "\t\t\tsentence = sentence[1:] + next_char\n",
        "\treturn generated\n",
        "\n",
        "print(generate_text(500, 1.0))\n"
      ],
      "metadata": {
        "colab": {
          "base_uri": "https://localhost:8080/"
        },
        "id": "mpDx29WQw2xc",
        "outputId": "d3eb9e10-a7fe-4b21-b991-17c97315427e"
      },
      "execution_count": null,
      "outputs": [
        {
          "output_type": "stream",
          "name": "stdout",
          "text": [
            "so far free him--made him fear for thy's queen\n",
            "To her I spay traitor's lay then\n",
            "I look my sportion's partent. Let usel,\n",
            "Come to his rease. O, that by our coisonseld\n",
            "Titure with rispabus, Son\n",
            "See thyig time? Why hame than the percot.\n",
            "Where of my do.\n",
            "\n",
            "MAMANkTHENVY:\n",
            "I'll brow her trines in his a fair out his sport,\n",
            "Unship and disfordiniby, love he is geter stull\n",
            "Well, not, why less in prise, enemanted,\n",
            "And son by a happoners since to with me and then:\n",
            "What ack, Petestigns or sometime and verys most straze?\n",
            "\n",
            "ISABELLA:\n",
            "Why, curce\n"
          ]
        }
      ]
    }
  ]
}